{
 "cells": [
  {
   "cell_type": "code",
   "execution_count": 2,
   "id": "f8621fdc",
   "metadata": {},
   "outputs": [],
   "source": [
    "from pathlib import Path\n",
    "\n",
    "import pandas as pd\n",
    "import altair as alt"
   ]
  },
  {
   "cell_type": "code",
   "execution_count": 7,
   "id": "9bd7185c",
   "metadata": {},
   "outputs": [],
   "source": [
    "DATA_DIR = Path(\"\").absolute() / \"data\" / \"transformed\""
   ]
  },
  {
   "cell_type": "code",
   "execution_count": 9,
   "id": "479175fe",
   "metadata": {},
   "outputs": [],
   "source": [
    "df = pd.read_csv(DATA_DIR / \"new-repos-by-month.csv\")"
   ]
  },
  {
   "cell_type": "code",
   "execution_count": 27,
   "id": "2433fa81",
   "metadata": {},
   "outputs": [],
   "source": [
    "df[\"sma\"] = df[\"count\"].rolling(window=12).mean().round(1)"
   ]
  },
  {
   "cell_type": "code",
   "execution_count": 44,
   "id": "a5542bba",
   "metadata": {
    "tags": [
     "hide-input"
    ]
   },
   "outputs": [
    {
     "data": {
      "text/html": [
       "\n",
       "<style>\n",
       "  #altair-viz-cd0b5e7f6cb64edfa01590e2fb14ca59.vega-embed {\n",
       "    width: 100%;\n",
       "    display: flex;\n",
       "  }\n",
       "\n",
       "  #altair-viz-cd0b5e7f6cb64edfa01590e2fb14ca59.vega-embed details,\n",
       "  #altair-viz-cd0b5e7f6cb64edfa01590e2fb14ca59.vega-embed details summary {\n",
       "    position: relative;\n",
       "  }\n",
       "</style>\n",
       "<div id=\"altair-viz-cd0b5e7f6cb64edfa01590e2fb14ca59\"></div>\n",
       "<script type=\"text/javascript\">\n",
       "  var VEGA_DEBUG = (typeof VEGA_DEBUG == \"undefined\") ? {} : VEGA_DEBUG;\n",
       "  (function(spec, embedOpt){\n",
       "    let outputDiv = document.currentScript.previousElementSibling;\n",
       "    if (outputDiv.id !== \"altair-viz-cd0b5e7f6cb64edfa01590e2fb14ca59\") {\n",
       "      outputDiv = document.getElementById(\"altair-viz-cd0b5e7f6cb64edfa01590e2fb14ca59\");\n",
       "    }\n",
       "\n",
       "    const paths = {\n",
       "      \"vega\": \"https://cdn.jsdelivr.net/npm/vega@5?noext\",\n",
       "      \"vega-lib\": \"https://cdn.jsdelivr.net/npm/vega-lib?noext\",\n",
       "      \"vega-lite\": \"https://cdn.jsdelivr.net/npm/vega-lite@5.20.1?noext\",\n",
       "      \"vega-embed\": \"https://cdn.jsdelivr.net/npm/vega-embed@6?noext\",\n",
       "    };\n",
       "\n",
       "    function maybeLoadScript(lib, version) {\n",
       "      var key = `${lib.replace(\"-\", \"\")}_version`;\n",
       "      return (VEGA_DEBUG[key] == version) ?\n",
       "        Promise.resolve(paths[lib]) :\n",
       "        new Promise(function(resolve, reject) {\n",
       "          var s = document.createElement('script');\n",
       "          document.getElementsByTagName(\"head\")[0].appendChild(s);\n",
       "          s.async = true;\n",
       "          s.onload = () => {\n",
       "            VEGA_DEBUG[key] = version;\n",
       "            return resolve(paths[lib]);\n",
       "          };\n",
       "          s.onerror = () => reject(`Error loading script: ${paths[lib]}`);\n",
       "          s.src = paths[lib];\n",
       "        });\n",
       "    }\n",
       "\n",
       "    function showError(err) {\n",
       "      outputDiv.innerHTML = `<div class=\"error\" style=\"color:red;\">${err}</div>`;\n",
       "      throw err;\n",
       "    }\n",
       "\n",
       "    function displayChart(vegaEmbed) {\n",
       "      vegaEmbed(outputDiv, spec, embedOpt)\n",
       "        .catch(err => showError(`Javascript Error: ${err.message}<br>This usually means there's a typo in your chart specification. See the javascript console for the full traceback.`));\n",
       "    }\n",
       "\n",
       "    if(typeof define === \"function\" && define.amd) {\n",
       "      requirejs.config({paths});\n",
       "      let deps = [\"vega-embed\"];\n",
       "      require(deps, displayChart, err => showError(`Error loading script: ${err.message}`));\n",
       "    } else {\n",
       "      maybeLoadScript(\"vega\", \"5\")\n",
       "        .then(() => maybeLoadScript(\"vega-lite\", \"5.20.1\"))\n",
       "        .then(() => maybeLoadScript(\"vega-embed\", \"6\"))\n",
       "        .catch(showError)\n",
       "        .then(() => displayChart(vegaEmbed));\n",
       "    }\n",
       "  })({\"config\": {\"view\": {\"continuousWidth\": 300, \"continuousHeight\": 300}}, \"layer\": [{\"mark\": {\"type\": \"bar\", \"color\": \"steelblue\", \"opacity\": 0.4}, \"encoding\": {\"tooltip\": [{\"field\": \"created_at\", \"timeUnit\": \"yearmonth\", \"title\": \"Month\", \"type\": \"temporal\"}, {\"field\": \"count\", \"title\": \"New repositories\", \"type\": \"quantitative\"}], \"x\": {\"field\": \"created_at\", \"timeUnit\": \"yearmonth\", \"title\": null, \"type\": \"temporal\"}, \"y\": {\"field\": \"count\", \"title\": null, \"type\": \"quantitative\"}}, \"title\": \"New repositories by month\"}, {\"mark\": {\"type\": \"line\", \"color\": \"steelblue\", \"strokeWidth\": 3.5}, \"encoding\": {\"tooltip\": [{\"field\": \"created_at\", \"timeUnit\": \"yearmonth\", \"title\": \"Month\", \"type\": \"temporal\"}, {\"field\": \"sma\", \"title\": \"12-month moving average\", \"type\": \"quantitative\"}], \"x\": {\"field\": \"created_at\", \"timeUnit\": \"yearmonth\", \"title\": null, \"type\": \"temporal\"}, \"y\": {\"field\": \"sma\", \"title\": \"12-month moving average\", \"type\": \"quantitative\"}}, \"title\": \"New repositories by month\"}], \"data\": {\"name\": \"data-b209299ff41f2fbf9fd242cc2152e092\"}, \"height\": 400, \"width\": 600, \"$schema\": \"https://vega.github.io/schema/vega-lite/v5.20.1.json\", \"datasets\": {\"data-b209299ff41f2fbf9fd242cc2152e092\": [{\"created_at\": \"2008-12\", \"count\": 2, \"sma\": null}, {\"created_at\": \"2009-01\", \"count\": 1, \"sma\": null}, {\"created_at\": \"2009-02\", \"count\": 1, \"sma\": null}, {\"created_at\": \"2009-03\", \"count\": 2, \"sma\": null}, {\"created_at\": \"2009-04\", \"count\": 3, \"sma\": null}, {\"created_at\": \"2009-05\", \"count\": 0, \"sma\": null}, {\"created_at\": \"2009-06\", \"count\": 2, \"sma\": null}, {\"created_at\": \"2009-07\", \"count\": 3, \"sma\": null}, {\"created_at\": \"2009-08\", \"count\": 3, \"sma\": null}, {\"created_at\": \"2009-09\", \"count\": 2, \"sma\": null}, {\"created_at\": \"2009-10\", \"count\": 1, \"sma\": null}, {\"created_at\": \"2009-11\", \"count\": 2, \"sma\": 1.8}, {\"created_at\": \"2009-12\", \"count\": 3, \"sma\": 1.9}, {\"created_at\": \"2010-01\", \"count\": 5, \"sma\": 2.2}, {\"created_at\": \"2010-02\", \"count\": 5, \"sma\": 2.6}, {\"created_at\": \"2010-03\", \"count\": 8, \"sma\": 3.1}, {\"created_at\": \"2010-04\", \"count\": 8, \"sma\": 3.5}, {\"created_at\": \"2010-05\", \"count\": 5, \"sma\": 3.9}, {\"created_at\": \"2010-06\", \"count\": 19, \"sma\": 5.3}, {\"created_at\": \"2010-07\", \"count\": 15, \"sma\": 6.3}, {\"created_at\": \"2010-08\", \"count\": 6, \"sma\": 6.6}, {\"created_at\": \"2010-09\", \"count\": 14, \"sma\": 7.6}, {\"created_at\": \"2010-10\", \"count\": 17, \"sma\": 8.9}, {\"created_at\": \"2010-11\", \"count\": 20, \"sma\": 10.4}, {\"created_at\": \"2010-12\", \"count\": 5, \"sma\": 10.6}, {\"created_at\": \"2011-01\", \"count\": 24, \"sma\": 12.2}, {\"created_at\": \"2011-02\", \"count\": 15, \"sma\": 13.0}, {\"created_at\": \"2011-03\", \"count\": 18, \"sma\": 13.8}, {\"created_at\": \"2011-04\", \"count\": 19, \"sma\": 14.8}, {\"created_at\": \"2011-05\", \"count\": 17, \"sma\": 15.8}, {\"created_at\": \"2011-06\", \"count\": 21, \"sma\": 15.9}, {\"created_at\": \"2011-07\", \"count\": 16, \"sma\": 16.0}, {\"created_at\": \"2011-08\", \"count\": 28, \"sma\": 17.8}, {\"created_at\": \"2011-09\", \"count\": 21, \"sma\": 18.4}, {\"created_at\": \"2011-10\", \"count\": 25, \"sma\": 19.1}, {\"created_at\": \"2011-11\", \"count\": 17, \"sma\": 18.8}, {\"created_at\": \"2011-12\", \"count\": 29, \"sma\": 20.8}, {\"created_at\": \"2012-01\", \"count\": 22, \"sma\": 20.7}, {\"created_at\": \"2012-02\", \"count\": 19, \"sma\": 21.0}, {\"created_at\": \"2012-03\", \"count\": 26, \"sma\": 21.7}, {\"created_at\": \"2012-04\", \"count\": 37, \"sma\": 23.2}, {\"created_at\": \"2012-05\", \"count\": 53, \"sma\": 26.2}, {\"created_at\": \"2012-06\", \"count\": 31, \"sma\": 27.0}, {\"created_at\": \"2012-07\", \"count\": 47, \"sma\": 29.6}, {\"created_at\": \"2012-08\", \"count\": 51, \"sma\": 31.5}, {\"created_at\": \"2012-09\", \"count\": 38, \"sma\": 32.9}, {\"created_at\": \"2012-10\", \"count\": 42, \"sma\": 34.3}, {\"created_at\": \"2012-11\", \"count\": 62, \"sma\": 38.1}, {\"created_at\": \"2012-12\", \"count\": 51, \"sma\": 39.9}, {\"created_at\": \"2013-01\", \"count\": 49, \"sma\": 42.2}, {\"created_at\": \"2013-02\", \"count\": 58, \"sma\": 45.4}, {\"created_at\": \"2013-03\", \"count\": 67, \"sma\": 48.8}, {\"created_at\": \"2013-04\", \"count\": 75, \"sma\": 52.0}, {\"created_at\": \"2013-05\", \"count\": 72, \"sma\": 53.6}, {\"created_at\": \"2013-06\", \"count\": 59, \"sma\": 55.9}, {\"created_at\": \"2013-07\", \"count\": 53, \"sma\": 56.4}, {\"created_at\": \"2013-08\", \"count\": 68, \"sma\": 57.8}, {\"created_at\": \"2013-09\", \"count\": 57, \"sma\": 59.4}, {\"created_at\": \"2013-10\", \"count\": 68, \"sma\": 61.6}, {\"created_at\": \"2013-11\", \"count\": 88, \"sma\": 63.8}, {\"created_at\": \"2013-12\", \"count\": 79, \"sma\": 66.1}, {\"created_at\": \"2014-01\", \"count\": 108, \"sma\": 71.0}, {\"created_at\": \"2014-02\", \"count\": 113, \"sma\": 75.6}, {\"created_at\": \"2014-03\", \"count\": 136, \"sma\": 81.3}, {\"created_at\": \"2014-04\", \"count\": 113, \"sma\": 84.5}, {\"created_at\": \"2014-05\", \"count\": 175, \"sma\": 93.1}, {\"created_at\": \"2014-06\", \"count\": 125, \"sma\": 98.6}, {\"created_at\": \"2014-07\", \"count\": 131, \"sma\": 105.1}, {\"created_at\": \"2014-08\", \"count\": 124, \"sma\": 109.8}, {\"created_at\": \"2014-09\", \"count\": 131, \"sma\": 115.9}, {\"created_at\": \"2014-10\", \"count\": 138, \"sma\": 121.8}, {\"created_at\": \"2014-11\", \"count\": 194, \"sma\": 130.6}, {\"created_at\": \"2014-12\", \"count\": 134, \"sma\": 135.2}, {\"created_at\": \"2015-01\", \"count\": 196, \"sma\": 142.5}, {\"created_at\": \"2015-02\", \"count\": 165, \"sma\": 146.8}, {\"created_at\": \"2015-03\", \"count\": 182, \"sma\": 150.7}, {\"created_at\": \"2015-04\", \"count\": 177, \"sma\": 156.0}, {\"created_at\": \"2015-05\", \"count\": 202, \"sma\": 158.2}, {\"created_at\": \"2015-06\", \"count\": 191, \"sma\": 163.8}, {\"created_at\": \"2015-07\", \"count\": 203, \"sma\": 169.8}, {\"created_at\": \"2015-08\", \"count\": 186, \"sma\": 174.9}, {\"created_at\": \"2015-09\", \"count\": 169, \"sma\": 178.1}, {\"created_at\": \"2015-10\", \"count\": 197, \"sma\": 183.0}, {\"created_at\": \"2015-11\", \"count\": 194, \"sma\": 183.0}, {\"created_at\": \"2015-12\", \"count\": 162, \"sma\": 185.3}, {\"created_at\": \"2016-01\", \"count\": 212, \"sma\": 186.7}, {\"created_at\": \"2016-02\", \"count\": 207, \"sma\": 190.2}, {\"created_at\": \"2016-03\", \"count\": 173, \"sma\": 189.4}, {\"created_at\": \"2016-04\", \"count\": 272, \"sma\": 197.3}, {\"created_at\": \"2016-05\", \"count\": 202, \"sma\": 197.3}, {\"created_at\": \"2016-06\", \"count\": 232, \"sma\": 200.8}, {\"created_at\": \"2016-07\", \"count\": 203, \"sma\": 200.8}, {\"created_at\": \"2016-08\", \"count\": 234, \"sma\": 204.8}, {\"created_at\": \"2016-09\", \"count\": 264, \"sma\": 212.7}, {\"created_at\": \"2016-10\", \"count\": 199, \"sma\": 212.8}, {\"created_at\": \"2016-11\", \"count\": 222, \"sma\": 215.2}, {\"created_at\": \"2016-12\", \"count\": 178, \"sma\": 216.5}, {\"created_at\": \"2017-01\", \"count\": 236, \"sma\": 218.5}, {\"created_at\": \"2017-02\", \"count\": 208, \"sma\": 218.6}, {\"created_at\": \"2017-03\", \"count\": 241, \"sma\": 224.2}, {\"created_at\": \"2017-04\", \"count\": 199, \"sma\": 218.2}, {\"created_at\": \"2017-05\", \"count\": 242, \"sma\": 221.5}, {\"created_at\": \"2017-06\", \"count\": 221, \"sma\": 220.6}, {\"created_at\": \"2017-07\", \"count\": 197, \"sma\": 220.1}, {\"created_at\": \"2017-08\", \"count\": 204, \"sma\": 217.6}, {\"created_at\": \"2017-09\", \"count\": 193, \"sma\": 211.7}, {\"created_at\": \"2017-10\", \"count\": 198, \"sma\": 211.6}, {\"created_at\": \"2017-11\", \"count\": 169, \"sma\": 207.2}, {\"created_at\": \"2017-12\", \"count\": 159, \"sma\": 205.6}, {\"created_at\": \"2018-01\", \"count\": 203, \"sma\": 202.8}, {\"created_at\": \"2018-02\", \"count\": 162, \"sma\": 199.0}, {\"created_at\": \"2018-03\", \"count\": 172, \"sma\": 193.2}, {\"created_at\": \"2018-04\", \"count\": 160, \"sma\": 190.0}, {\"created_at\": \"2018-05\", \"count\": 128, \"sma\": 180.5}, {\"created_at\": \"2018-06\", \"count\": 151, \"sma\": 174.7}, {\"created_at\": \"2018-07\", \"count\": 163, \"sma\": 171.8}, {\"created_at\": \"2018-08\", \"count\": 136, \"sma\": 166.2}, {\"created_at\": \"2018-09\", \"count\": 118, \"sma\": 159.9}, {\"created_at\": \"2018-10\", \"count\": 150, \"sma\": 155.9}, {\"created_at\": \"2018-11\", \"count\": 149, \"sma\": 154.2}, {\"created_at\": \"2018-12\", \"count\": 120, \"sma\": 151.0}, {\"created_at\": \"2019-01\", \"count\": 121, \"sma\": 144.2}, {\"created_at\": \"2019-02\", \"count\": 142, \"sma\": 142.5}, {\"created_at\": \"2019-03\", \"count\": 102, \"sma\": 136.7}, {\"created_at\": \"2019-04\", \"count\": 155, \"sma\": 136.2}, {\"created_at\": \"2019-05\", \"count\": 158, \"sma\": 138.8}, {\"created_at\": \"2019-06\", \"count\": 123, \"sma\": 136.4}, {\"created_at\": \"2019-07\", \"count\": 124, \"sma\": 133.2}, {\"created_at\": \"2019-08\", \"count\": 116, \"sma\": 131.5}, {\"created_at\": \"2019-09\", \"count\": 118, \"sma\": 131.5}, {\"created_at\": \"2019-10\", \"count\": 137, \"sma\": 130.4}, {\"created_at\": \"2019-11\", \"count\": 117, \"sma\": 127.8}, {\"created_at\": \"2019-12\", \"count\": 106, \"sma\": 126.6}, {\"created_at\": \"2020-01\", \"count\": 117, \"sma\": 126.2}, {\"created_at\": \"2020-02\", \"count\": 97, \"sma\": 122.5}, {\"created_at\": \"2020-03\", \"count\": 150, \"sma\": 126.5}, {\"created_at\": \"2020-04\", \"count\": 135, \"sma\": 124.8}, {\"created_at\": \"2020-05\", \"count\": 98, \"sma\": 119.8}, {\"created_at\": \"2020-06\", \"count\": 117, \"sma\": 119.3}, {\"created_at\": \"2020-07\", \"count\": 91, \"sma\": 116.6}, {\"created_at\": \"2020-08\", \"count\": 92, \"sma\": 114.6}, {\"created_at\": \"2020-09\", \"count\": 80, \"sma\": 111.4}, {\"created_at\": \"2020-10\", \"count\": 76, \"sma\": 106.3}, {\"created_at\": \"2020-11\", \"count\": 80, \"sma\": 103.2}, {\"created_at\": \"2020-12\", \"count\": 61, \"sma\": 99.5}, {\"created_at\": \"2021-01\", \"count\": 77, \"sma\": 96.2}, {\"created_at\": \"2021-02\", \"count\": 68, \"sma\": 93.8}, {\"created_at\": \"2021-03\", \"count\": 89, \"sma\": 88.7}, {\"created_at\": \"2021-04\", \"count\": 55, \"sma\": 82.0}, {\"created_at\": \"2021-05\", \"count\": 67, \"sma\": 79.4}, {\"created_at\": \"2021-06\", \"count\": 69, \"sma\": 75.4}, {\"created_at\": \"2021-07\", \"count\": 56, \"sma\": 72.5}, {\"created_at\": \"2021-08\", \"count\": 45, \"sma\": 68.6}, {\"created_at\": \"2021-09\", \"count\": 67, \"sma\": 67.5}, {\"created_at\": \"2021-10\", \"count\": 62, \"sma\": 66.3}, {\"created_at\": \"2021-11\", \"count\": 60, \"sma\": 64.7}, {\"created_at\": \"2021-12\", \"count\": 66, \"sma\": 65.1}, {\"created_at\": \"2022-01\", \"count\": 63, \"sma\": 63.9}, {\"created_at\": \"2022-02\", \"count\": 66, \"sma\": 63.8}, {\"created_at\": \"2022-03\", \"count\": 116, \"sma\": 66.0}, {\"created_at\": \"2022-04\", \"count\": 63, \"sma\": 66.7}, {\"created_at\": \"2022-05\", \"count\": 64, \"sma\": 66.4}, {\"created_at\": \"2022-06\", \"count\": 56, \"sma\": 65.3}, {\"created_at\": \"2022-07\", \"count\": 56, \"sma\": 65.3}, {\"created_at\": \"2022-08\", \"count\": 59, \"sma\": 66.5}, {\"created_at\": \"2022-09\", \"count\": 41, \"sma\": 64.3}, {\"created_at\": \"2022-10\", \"count\": 69, \"sma\": 64.9}, {\"created_at\": \"2022-11\", \"count\": 64, \"sma\": 65.2}, {\"created_at\": \"2022-12\", \"count\": 50, \"sma\": 63.9}, {\"created_at\": \"2023-01\", \"count\": 82, \"sma\": 65.5}, {\"created_at\": \"2023-02\", \"count\": 65, \"sma\": 65.4}, {\"created_at\": \"2023-03\", \"count\": 54, \"sma\": 60.2}, {\"created_at\": \"2023-04\", \"count\": 65, \"sma\": 60.4}, {\"created_at\": \"2023-05\", \"count\": 50, \"sma\": 59.2}, {\"created_at\": \"2023-06\", \"count\": 58, \"sma\": 59.4}, {\"created_at\": \"2023-07\", \"count\": 32, \"sma\": 57.4}, {\"created_at\": \"2023-08\", \"count\": 51, \"sma\": 56.8}, {\"created_at\": \"2023-09\", \"count\": 49, \"sma\": 57.4}, {\"created_at\": \"2023-10\", \"count\": 59, \"sma\": 56.6}, {\"created_at\": \"2023-11\", \"count\": 60, \"sma\": 56.2}, {\"created_at\": \"2023-12\", \"count\": 28, \"sma\": 54.4}, {\"created_at\": \"2024-01\", \"count\": 34, \"sma\": 50.4}, {\"created_at\": \"2024-02\", \"count\": 50, \"sma\": 49.2}, {\"created_at\": \"2024-03\", \"count\": 45, \"sma\": 48.4}, {\"created_at\": \"2024-04\", \"count\": 47, \"sma\": 46.9}, {\"created_at\": \"2024-05\", \"count\": 46, \"sma\": 46.6}, {\"created_at\": \"2024-06\", \"count\": 27, \"sma\": 44.0}, {\"created_at\": \"2024-07\", \"count\": 25, \"sma\": 43.4}, {\"created_at\": \"2024-08\", \"count\": 42, \"sma\": 42.7}, {\"created_at\": \"2024-09\", \"count\": 28, \"sma\": 40.9}, {\"created_at\": \"2024-10\", \"count\": 45, \"sma\": 39.8}, {\"created_at\": \"2024-11\", \"count\": 32, \"sma\": 37.4}, {\"created_at\": \"2024-12\", \"count\": 27, \"sma\": 37.3}, {\"created_at\": \"2025-01\", \"count\": 43, \"sma\": 38.1}, {\"created_at\": \"2025-02\", \"count\": 48, \"sma\": 37.9}, {\"created_at\": \"2025-03\", \"count\": 46, \"sma\": 38.0}, {\"created_at\": \"2025-04\", \"count\": 36, \"sma\": 37.1}, {\"created_at\": \"2025-05\", \"count\": 63, \"sma\": 38.5}, {\"created_at\": \"2025-06\", \"count\": 26, \"sma\": 38.4}, {\"created_at\": \"2025-07\", \"count\": 42, \"sma\": 39.8}, {\"created_at\": \"2025-08\", \"count\": 2, \"sma\": 36.5}]}}, {\"mode\": \"vega-lite\"});\n",
       "</script>"
      ],
      "text/plain": [
       "alt.LayerChart(...)"
      ]
     },
     "execution_count": 44,
     "metadata": {},
     "output_type": "execute_result"
    }
   ],
   "source": [
    "chart = alt.Chart(df, title=\"New repositories by month\").encode(\n",
    "    x=alt.X(\"created_at:T\", title=None, timeUnit=\"yearmonth\"),\n",
    ")\n",
    "\n",
    "bars = chart.mark_bar(color=\"steelblue\", opacity=0.4).encode(\n",
    "    y=alt.Y(\"count:Q\", title=None),\n",
    "    tooltip=[\n",
    "        alt.Tooltip(\"created_at:T\", title=\"Month\", timeUnit=\"yearmonth\"),\n",
    "        alt.Tooltip(\"count:Q\", title=\"New repositories\"),\n",
    "    ],\n",
    ")\n",
    "\n",
    "# Add a line with the 12 months moving average\n",
    "line = chart.mark_line(color=\"steelblue\", strokeWidth=3.5).encode(\n",
    "    y=alt.Y(\"sma:Q\", title=\"12-month moving average\"),\n",
    "    tooltip=[\n",
    "        alt.Tooltip(\"created_at:T\", title=\"Month\", timeUnit=\"yearmonth\"),\n",
    "        alt.Tooltip(\"sma:Q\", title=\"12-month moving average\"),\n",
    "    ],\n",
    ")\n",
    "\n",
    "(bars + line).properties(\n",
    "    width=600,\n",
    "    height=400,\n",
    ")"
   ]
  }
 ],
 "metadata": {
  "kernelspec": {
   "display_name": "open-journalism",
   "language": "python",
   "name": "python3"
  },
  "language_info": {
   "codemirror_mode": {
    "name": "ipython",
    "version": 3
   },
   "file_extension": ".py",
   "mimetype": "text/x-python",
   "name": "python",
   "nbconvert_exporter": "python",
   "pygments_lexer": "ipython3",
   "version": "3.12.0"
  }
 },
 "nbformat": 4,
 "nbformat_minor": 5
}
